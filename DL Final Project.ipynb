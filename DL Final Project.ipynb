{
 "cells": [
  {
   "cell_type": "code",
   "execution_count": 11,
   "metadata": {},
   "outputs": [],
   "source": [
    "#Include all packages\n",
    "import os\n",
    "import cv2\n",
    "import numpy as np\n",
    "import tensorflow as tf\n",
    "from sklearn.model_selection import train_test_split\n",
    "from tensorflow.keras.preprocessing.image import ImageDataGenerator\n",
    "from tensorflow.keras.layers import Input, Conv2D, MaxPooling2D, UpSampling2D\n",
    "from tensorflow.keras.models import Model, Sequential\n",
    "from sklearn.model_selection import train_test_split\n",
    "import pandas as pd\n"
   ]
  },
  {
   "cell_type": "code",
   "execution_count": 13,
   "metadata": {},
   "outputs": [
    {
     "name": "stdout",
     "output_type": "stream",
     "text": [
      "[]\n"
     ]
    }
   ],
   "source": [
    "os.environ['CUDA_VISIBLE_DEVICES'] = '0'\n",
    "physical_devices = tf.config.list_physical_devices('GPU')\n",
    "print(physical_devices)\n",
    "if len(physical_devices) > 0:  # If you have at least one \"configured\" GPU, let's use it; otherwise, pass\n",
    "    tf.config.experimental.set_memory_growth(physical_devices[0], True)\n",
    "    print(\"Using GPU\")\n"
   ]
  },
  {
   "cell_type": "code",
   "execution_count": 14,
   "metadata": {},
   "outputs": [],
   "source": [
    "def LoadDataSet(dataSetFolderPath: str):\n",
    "    images = []\n",
    "    croppedValues = []\n",
    "    annotationsFilePath = dataSetFolderPath+\"/allAnnotations.csv\"\n",
    "    annotationsDataFrame = pd.read_csv(annotationsFilePath,sep=\";\")\n",
    "    width, height = 500, 500\n",
    "    for index, row in annotationsDataFrame[1:].iterrows():\n",
    "        image = cv2.imread(dataSetFolderPath+\"/\"+row[0])\n",
    "        # cv2.imshow(\"image\", image)\n",
    "        resized_img  = cv2.resize(image, (width, height), interpolation=cv2.INTER_AREA)\n",
    "        # cv2.imshow(\"resized_img\", resized_img)\n",
    "        images.append(resized_img)\n",
    "        croppedValues.append((row[2],row[3],row[4],row[5]))\n",
    "\n",
    "    del annotationsDataFrame\n",
    "    return images, croppedValues\n",
    "\n"
   ]
  },
  {
   "cell_type": "code",
   "execution_count": 15,
   "metadata": {},
   "outputs": [],
   "source": [
    "annotationsFilePath = \"./DataSet\"+\"/allAnnotations.csv\"\n",
    "annotationsDataFrame = pd.read_csv(annotationsFilePath,sep=\";\")"
   ]
  },
  {
   "cell_type": "code",
   "execution_count": 17,
   "metadata": {},
   "outputs": [],
   "source": [
    "images, croppedValues = LoadDataSet(\"./DataSet\")\n",
    "X_train, X_val = train_test_split(images, test_size=0.3, random_state=42)\n",
    "del images"
   ]
  }
 ],
 "metadata": {
  "kernelspec": {
   "display_name": "Python 3",
   "language": "python",
   "name": "python3"
  },
  "language_info": {
   "codemirror_mode": {
    "name": "ipython",
    "version": 3
   },
   "file_extension": ".py",
   "mimetype": "text/x-python",
   "name": "python",
   "nbconvert_exporter": "python",
   "pygments_lexer": "ipython3",
   "version": "3.11.0"
  },
  "orig_nbformat": 4
 },
 "nbformat": 4,
 "nbformat_minor": 2
}
