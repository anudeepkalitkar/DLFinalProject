{
 "cells": [
  {
   "cell_type": "code",
   "execution_count": 8,
   "metadata": {},
   "outputs": [],
   "source": [
    "import os\n",
    "import random\n",
    "from pathlib import Path\n",
    "import pandas as pd\n",
    "import cv2\n",
    "import yaml\n"
   ]
  },
  {
   "cell_type": "code",
   "execution_count": 9,
   "metadata": {},
   "outputs": [],
   "source": [
    "def ConvertLisaToYolo(dataSetFolderPath: str,outputPath: str  ):\n",
    "    # annotations = []\n",
    "    annotationsFilePath = dataSetFolderPath+\"/allAnnotations.csv\"\n",
    "    annotationsDataFrame = pd.read_csv(annotationsFilePath, sep=\";\")\n",
    "    uniqueSigns = annotationsDataFrame['Annotation tag'].unique().tolist()\n",
    "    uniqueFiles = annotationsDataFrame['Filename'].unique()\n",
    "    for file in uniqueFiles:\n",
    "        image_file = os.path.join(dataSetFolderPath, file)\n",
    "        if not os.path.exists(image_file):\n",
    "            continue\n",
    "        fileDataFrame = annotationsDataFrame[annotationsDataFrame['Filename'] == file]\n",
    "        fileAnnotations = []\n",
    "        for index, row in fileDataFrame.iterrows():\n",
    "            x1, y1, x2, y2 = row[2], row[3], row[4], row[5]\n",
    "            image = cv2.imread(dataSetFolderPath+\"/\"+row[0])\n",
    "            h, w, _ = image.shape\n",
    "            xCenter = ((x1 + x2) / 2) / w\n",
    "            yCenter = ((y1 + y2) / 2) / h\n",
    "            width = (x2 - x1) / w\n",
    "            height = (y2 - y1) / h\n",
    "            classId = uniqueSigns.index(row[1])\n",
    "            fileAnnotations.append(f\"{classId} {xCenter} {yCenter} {width} {height}\")\n",
    "        with open(os.path.join(outputPath, f\"{Path(file).stem}.txt\"), \"w\") as f:\n",
    "            f.write(\"\\n\".join(fileAnnotations))\n"
   ]
  },
  {
   "cell_type": "code",
   "execution_count": null,
   "metadata": {},
   "outputs": [],
   "source": [
    "def CreateTrainValFiles(dataSetFolderPath: str):\n",
    "    annotationsFilePath = dataSetFolderPath+\"/allAnnotations.csv\"\n",
    "    annotationsDataFrame = pd.read_csv(annotationsFilePath, sep=\";\")\n",
    "    uniqueSigns = annotationsDataFrame['Annotation tag'].unique().tolist()\n",
    "    print(uniqueSigns)\n",
    "    print(len(uniqueSigns))\n",
    "    uniqueFiles = annotationsDataFrame['Filename'].unique().tolist()\n",
    "    image_files = [\"./DataSet/\" + file for file in uniqueFiles ]\n",
    "    random.shuffle(image_files)\n",
    "\n",
    "    split_ratio = 0.8\n",
    "    train_files = image_files[:int(len(image_files) * split_ratio)]\n",
    "    val_files = image_files[int(len(image_files) * split_ratio):]\n",
    "\n",
    "    with open(\"train.txt\", \"w\") as f:\n",
    "        f.writelines([ file + \"\\n\" for file in train_files])\n",
    "\n",
    "    with open(\"val.txt\", \"w\") as f:\n",
    "        f.writelines([file + \"\\n\" for file in val_files])\n",
    "    return len(uniqueSigns), uniqueSigns\n",
    "    "
   ]
  },
  {
   "cell_type": "code",
   "execution_count": null,
   "metadata": {},
   "outputs": [],
   "source": [
    "def CreateYaml(fileName: str, numClass: int, classList: list):\n",
    "    data = {\n",
    "    'train': './train.txt',\n",
    "    'val': './val.txt',\n",
    "    'nc': numClass,\n",
    "    'names': classList\n",
    "    }\n",
    "\n",
    "    with open(fileName, 'w') as file:\n",
    "        yaml.dump(data, file, default_flow_style=False)"
   ]
  },
  {
   "cell_type": "code",
   "execution_count": null,
   "metadata": {},
   "outputs": [],
   "source": [
    "os.mkdir('./Yolo Data Annotation')"
   ]
  },
  {
   "cell_type": "code",
   "execution_count": 12,
   "metadata": {},
   "outputs": [],
   "source": [
    "ConvertLisaToYolo('./DataSet', './Yolo Data Annotation')\n",
    "numClass, classList = CreateTrainValFiles('./DataSet')\n",
    "CreateYaml('signboard.yaml', numClass, classList)"
   ]
  },
  {
   "cell_type": "code",
   "execution_count": null,
   "metadata": {},
   "outputs": [],
   "source": [
    "\n"
   ]
  },
  {
   "cell_type": "code",
   "execution_count": null,
   "metadata": {},
   "outputs": [],
   "source": []
  }
 ],
 "metadata": {
  "kernelspec": {
   "display_name": "Python 3",
   "language": "python",
   "name": "python3"
  },
  "language_info": {
   "codemirror_mode": {
    "name": "ipython",
    "version": 3
   },
   "file_extension": ".py",
   "mimetype": "text/x-python",
   "name": "python",
   "nbconvert_exporter": "python",
   "pygments_lexer": "ipython3",
   "version": "3.11.0"
  },
  "orig_nbformat": 4
 },
 "nbformat": 4,
 "nbformat_minor": 2
}
