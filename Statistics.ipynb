{
 "cells": [
  {
   "cell_type": "code",
   "execution_count": null,
   "metadata": {},
   "outputs": [],
   "source": [
    "# Include all packages\n",
    "import gc\n",
    "import cv2\n",
    "import shutil\n",
    "import numpy as np\n",
    "import pandas as pd"
   ]
  },
  {
   "cell_type": "code",
   "execution_count": null,
   "metadata": {},
   "outputs": [],
   "source": [
    "try:\n",
    "    from google.colab import drive\n",
    "    drive.mount('/content/drive')\n",
    "    import zipfile\n",
    "    with zipfile.ZipFile('/content/drive/MyDrive/DL Project/DataSet1.zip', 'r') as zip_ref:\n",
    "        zip_ref.extractall('./DataSet1')\n",
    "except:\n",
    "    print(\"Using Local Machine\")"
   ]
  },
  {
   "cell_type": "code",
   "execution_count": null,
   "metadata": {},
   "outputs": [],
   "source": [
    "def CannyEdge(capturedImage):\n",
    "    grayScale = cv2.cvtColor(capturedImage, cv2.COLOR_BGR2GRAY)\n",
    "    bilateralFilter = cv2.bilateralFilter(grayScale, 11, 17, 17)\n",
    "    imageMedian = np.median(capturedImage)\n",
    "    lowerThreshold = max(0, (0.7 * imageMedian))\n",
    "    upperThreshold = min(255, (0.7 * imageMedian))\n",
    "    cannyEdgeImage = cv2.Canny(bilateralFilter, lowerThreshold, upperThreshold)\n",
    "    cannyEdgeImage = cv2.cvtColor(cannyEdgeImage, cv2.COLOR_GRAY2BGR)\n",
    "    return cannyEdgeImage"
   ]
  },
  {
   "cell_type": "code",
   "execution_count": null,
   "metadata": {},
   "outputs": [],
   "source": [
    "def ResizeImage(image: np.ndarray, x1: int, y1: int, x2: int, y2: int, newWidth: int, newHeight: int) -> tuple:\n",
    "    originalHeight, originalWidth = image.shape[:2]\n",
    "    widthScale = newWidth / originalWidth\n",
    "    heightScale = newHeight / originalHeight\n",
    "    resizedImage = cv2.resize(\n",
    "        image, (newWidth, newHeight), interpolation=cv2.INTER_LINEAR)\n",
    "    x1New, y1New = int(x1 * widthScale), int(y1 * heightScale)\n",
    "    x2New, y2New = int(x2 * widthScale), int(y2 * heightScale)\n",
    "    return resizedImage, x1New, y1New, x2New, y2New\n"
   ]
  },
  {
   "cell_type": "code",
   "execution_count": null,
   "metadata": {},
   "outputs": [],
   "source": [
    "def LoadDataSet(dataSetFolderPath: str) -> tuple:\n",
    "    images = []\n",
    "    annotations = []\n",
    "    annotationsFilePath = dataSetFolderPath+\"/annotations.csv\"\n",
    "    annotationsDataFrame = pd.read_csv(annotationsFilePath, sep=\",\")\n",
    "    uniqueSigns = annotationsDataFrame['class'].unique().tolist()\n",
    "    for index, row in annotationsDataFrame[1:].iterrows():\n",
    "        image = cv2.imread(dataSetFolderPath+\"/\"+row[0])\n",
    "        images.append(image)\n",
    "        annotations.append(\n",
    "            [row[1], row[2], row[3], row[4]])\n",
    "\n",
    "    del annotationsDataFrame\n",
    "\n",
    "    return images, annotations, len(uniqueSigns)\n"
   ]
  },
  {
   "cell_type": "code",
   "execution_count": null,
   "metadata": {},
   "outputs": [],
   "source": [
    "def PreProcessDataSet(images: list, annotations: list, batchSize: int, resize: tuple) -> tuple:\n",
    "    resizedImages = []\n",
    "    newAnnotations = []\n",
    "    for i, image in enumerate(images):\n",
    "        [x1, y1, x2, y2] = annotations[i]\n",
    "        resizedImage, x1New, y1New, x2New, y2New = ResizeImage(\n",
    "            image, x1, y1, x2, y2, resize[0], resize[1])\n",
    "        resizedImage = CannyEdge(resizedImage)\n",
    "        resizedImages.append(resizedImage)\n",
    "        newAnnotations.append(\n",
    "            [x1New, y1New, x2New, y2New])\n",
    "\n",
    "    \n",
    "    return resizedImages, newAnnotations\n"
   ]
  },
  {
   "cell_type": "code",
   "execution_count": null,
   "metadata": {},
   "outputs": [],
   "source": [
    "batchSize = 32\n",
    "inputShape = (640, 640)"
   ]
  },
  {
   "cell_type": "code",
   "execution_count": null,
   "metadata": {},
   "outputs": [],
   "source": [
    "images, annotations, numClasses = LoadDataSet(\"./DataSet1\")\n",
    "numClasses = 1"
   ]
  },
  {
   "cell_type": "code",
   "execution_count": null,
   "metadata": {},
   "outputs": [],
   "source": [
    "images, annotations, = PreProcessDataSet(\n",
    "    images, annotations, batchSize, inputShape)\n",
    "\n",
    "gc.collect()"
   ]
  },
  {
   "cell_type": "code",
   "execution_count": null,
   "metadata": {},
   "outputs": [],
   "source": [
    "annotationsDataFrame = pd.DataFrame(annotations, columns=['x1','y1', 'x2','y2'])"
   ]
  },
  {
   "cell_type": "code",
   "execution_count": null,
   "metadata": {},
   "outputs": [],
   "source": [
    "annotationsDataFrame.head()\n"
   ]
  }
 ],
 "metadata": {
  "language_info": {
   "name": "python"
  },
  "orig_nbformat": 4
 },
 "nbformat": 4,
 "nbformat_minor": 2
}
