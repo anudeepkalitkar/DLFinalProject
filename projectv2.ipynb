{
  "cells": [
    {
      "cell_type": "code",
      "source": [
        "!pip install yolov5"
      ],
      "metadata": {
        "colab": {
          "base_uri": "https://localhost:8080/"
        },
        "id": "Nl7oKV7V3FCx",
        "outputId": "61dc6638-f7fa-4568-a5e0-4173951fcb3c"
      },
      "execution_count": 1,
      "outputs": [
        {
          "output_type": "stream",
          "name": "stdout",
          "text": [
            "Looking in indexes: https://pypi.org/simple, https://us-python.pkg.dev/colab-wheels/public/simple/\n",
            "Requirement already satisfied: yolov5 in /usr/local/lib/python3.9/dist-packages (7.0.11)\n",
            "Requirement already satisfied: thop>=0.1.1 in /usr/local/lib/python3.9/dist-packages (from yolov5) (0.1.1.post2209072238)\n",
            "Requirement already satisfied: sahi>=0.11.10 in /usr/local/lib/python3.9/dist-packages (from yolov5) (0.11.13)\n",
            "Requirement already satisfied: numpy>=1.18.5 in /usr/local/lib/python3.9/dist-packages (from yolov5) (1.22.4)\n",
            "Requirement already satisfied: PyYAML>=5.3.1 in /usr/local/lib/python3.9/dist-packages (from yolov5) (6.0)\n",
            "Requirement already satisfied: tqdm>=4.64.0 in /usr/local/lib/python3.9/dist-packages (from yolov5) (4.65.0)\n",
            "Requirement already satisfied: seaborn>=0.11.0 in /usr/local/lib/python3.9/dist-packages (from yolov5) (0.12.2)\n",
            "Requirement already satisfied: roboflow>=0.2.29 in /usr/local/lib/python3.9/dist-packages (from yolov5) (1.0.2)\n",
            "Requirement already satisfied: ipython in /usr/local/lib/python3.9/dist-packages (from yolov5) (7.34.0)\n",
            "Requirement already satisfied: psutil in /usr/local/lib/python3.9/dist-packages (from yolov5) (5.9.4)\n",
            "Requirement already satisfied: huggingface-hub>=0.12.0 in /usr/local/lib/python3.9/dist-packages (from yolov5) (0.13.3)\n",
            "Requirement already satisfied: fire in /usr/local/lib/python3.9/dist-packages (from yolov5) (0.5.0)\n",
            "Requirement already satisfied: matplotlib>=3.2.2 in /usr/local/lib/python3.9/dist-packages (from yolov5) (3.7.1)\n",
            "Requirement already satisfied: pandas>=1.1.4 in /usr/local/lib/python3.9/dist-packages (from yolov5) (1.4.4)\n",
            "Requirement already satisfied: tensorboard>=2.4.1 in /usr/local/lib/python3.9/dist-packages (from yolov5) (2.12.0)\n",
            "Requirement already satisfied: Pillow>=7.1.2 in /usr/local/lib/python3.9/dist-packages (from yolov5) (8.4.0)\n",
            "Requirement already satisfied: torch>=1.7.0 in /usr/local/lib/python3.9/dist-packages (from yolov5) (2.0.0+cu118)\n",
            "Requirement already satisfied: gitpython in /usr/local/lib/python3.9/dist-packages (from yolov5) (3.1.31)\n",
            "Requirement already satisfied: torchvision>=0.8.1 in /usr/local/lib/python3.9/dist-packages (from yolov5) (0.15.1+cu118)\n",
            "Requirement already satisfied: requests>=2.23.0 in /usr/local/lib/python3.9/dist-packages (from yolov5) (2.27.1)\n",
            "Requirement already satisfied: boto3>=1.19.1 in /usr/local/lib/python3.9/dist-packages (from yolov5) (1.26.105)\n",
            "Requirement already satisfied: opencv-python>=4.1.1 in /usr/local/lib/python3.9/dist-packages (from yolov5) (4.7.0.72)\n",
            "Requirement already satisfied: scipy>=1.4.1 in /usr/local/lib/python3.9/dist-packages (from yolov5) (1.10.1)\n",
            "Requirement already satisfied: botocore<1.30.0,>=1.29.105 in /usr/local/lib/python3.9/dist-packages (from boto3>=1.19.1->yolov5) (1.29.105)\n",
            "Requirement already satisfied: jmespath<2.0.0,>=0.7.1 in /usr/local/lib/python3.9/dist-packages (from boto3>=1.19.1->yolov5) (1.0.1)\n",
            "Requirement already satisfied: s3transfer<0.7.0,>=0.6.0 in /usr/local/lib/python3.9/dist-packages (from boto3>=1.19.1->yolov5) (0.6.0)\n",
            "Requirement already satisfied: packaging>=20.9 in /usr/local/lib/python3.9/dist-packages (from huggingface-hub>=0.12.0->yolov5) (23.0)\n",
            "Requirement already satisfied: filelock in /usr/local/lib/python3.9/dist-packages (from huggingface-hub>=0.12.0->yolov5) (3.10.7)\n",
            "Requirement already satisfied: typing-extensions>=3.7.4.3 in /usr/local/lib/python3.9/dist-packages (from huggingface-hub>=0.12.0->yolov5) (4.5.0)\n",
            "Requirement already satisfied: importlib-resources>=3.2.0 in /usr/local/lib/python3.9/dist-packages (from matplotlib>=3.2.2->yolov5) (5.12.0)\n",
            "Requirement already satisfied: pyparsing>=2.3.1 in /usr/local/lib/python3.9/dist-packages (from matplotlib>=3.2.2->yolov5) (2.4.7)\n",
            "Requirement already satisfied: kiwisolver>=1.0.1 in /usr/local/lib/python3.9/dist-packages (from matplotlib>=3.2.2->yolov5) (1.4.4)\n",
            "Requirement already satisfied: contourpy>=1.0.1 in /usr/local/lib/python3.9/dist-packages (from matplotlib>=3.2.2->yolov5) (1.0.7)\n",
            "Requirement already satisfied: cycler>=0.10 in /usr/local/lib/python3.9/dist-packages (from matplotlib>=3.2.2->yolov5) (0.10.0)\n",
            "Requirement already satisfied: python-dateutil>=2.7 in /usr/local/lib/python3.9/dist-packages (from matplotlib>=3.2.2->yolov5) (2.8.2)\n",
            "Requirement already satisfied: fonttools>=4.22.0 in /usr/local/lib/python3.9/dist-packages (from matplotlib>=3.2.2->yolov5) (4.39.3)\n",
            "Requirement already satisfied: pytz>=2020.1 in /usr/local/lib/python3.9/dist-packages (from pandas>=1.1.4->yolov5) (2022.7.1)\n",
            "Requirement already satisfied: charset-normalizer~=2.0.0 in /usr/local/lib/python3.9/dist-packages (from requests>=2.23.0->yolov5) (2.0.12)\n",
            "Requirement already satisfied: urllib3<1.27,>=1.21.1 in /usr/local/lib/python3.9/dist-packages (from requests>=2.23.0->yolov5) (1.26.15)\n",
            "Requirement already satisfied: certifi>=2017.4.17 in /usr/local/lib/python3.9/dist-packages (from requests>=2.23.0->yolov5) (2022.12.7)\n",
            "Requirement already satisfied: idna<4,>=2.5 in /usr/local/lib/python3.9/dist-packages (from requests>=2.23.0->yolov5) (2.10)\n",
            "Requirement already satisfied: wget in /usr/local/lib/python3.9/dist-packages (from roboflow>=0.2.29->yolov5) (3.2)\n",
            "Requirement already satisfied: python-dotenv in /usr/local/lib/python3.9/dist-packages (from roboflow>=0.2.29->yolov5) (1.0.0)\n",
            "Requirement already satisfied: requests-toolbelt in /usr/local/lib/python3.9/dist-packages (from roboflow>=0.2.29->yolov5) (0.10.1)\n",
            "Requirement already satisfied: chardet==4.0.0 in /usr/local/lib/python3.9/dist-packages (from roboflow>=0.2.29->yolov5) (4.0.0)\n",
            "Requirement already satisfied: six in /usr/local/lib/python3.9/dist-packages (from roboflow>=0.2.29->yolov5) (1.16.0)\n",
            "Requirement already satisfied: terminaltables in /usr/local/lib/python3.9/dist-packages (from sahi>=0.11.10->yolov5) (3.1.10)\n",
            "Requirement already satisfied: shapely>=1.8.0 in /usr/local/lib/python3.9/dist-packages (from sahi>=0.11.10->yolov5) (2.0.1)\n",
            "Requirement already satisfied: click==8.0.4 in /usr/local/lib/python3.9/dist-packages (from sahi>=0.11.10->yolov5) (8.0.4)\n",
            "Requirement already satisfied: pybboxes==0.1.6 in /usr/local/lib/python3.9/dist-packages (from sahi>=0.11.10->yolov5) (0.1.6)\n",
            "Requirement already satisfied: grpcio>=1.48.2 in /usr/local/lib/python3.9/dist-packages (from tensorboard>=2.4.1->yolov5) (1.53.0)\n",
            "Requirement already satisfied: setuptools>=41.0.0 in /usr/local/lib/python3.9/dist-packages (from tensorboard>=2.4.1->yolov5) (67.6.1)\n",
            "Requirement already satisfied: tensorboard-data-server<0.8.0,>=0.7.0 in /usr/local/lib/python3.9/dist-packages (from tensorboard>=2.4.1->yolov5) (0.7.0)\n",
            "Requirement already satisfied: absl-py>=0.4 in /usr/local/lib/python3.9/dist-packages (from tensorboard>=2.4.1->yolov5) (1.4.0)\n",
            "Requirement already satisfied: google-auth-oauthlib<0.5,>=0.4.1 in /usr/local/lib/python3.9/dist-packages (from tensorboard>=2.4.1->yolov5) (0.4.6)\n",
            "Requirement already satisfied: tensorboard-plugin-wit>=1.6.0 in /usr/local/lib/python3.9/dist-packages (from tensorboard>=2.4.1->yolov5) (1.8.1)\n",
            "Requirement already satisfied: google-auth<3,>=1.6.3 in /usr/local/lib/python3.9/dist-packages (from tensorboard>=2.4.1->yolov5) (2.17.0)\n",
            "Requirement already satisfied: werkzeug>=1.0.1 in /usr/local/lib/python3.9/dist-packages (from tensorboard>=2.4.1->yolov5) (2.2.3)\n",
            "Requirement already satisfied: wheel>=0.26 in /usr/local/lib/python3.9/dist-packages (from tensorboard>=2.4.1->yolov5) (0.40.0)\n",
            "Requirement already satisfied: markdown>=2.6.8 in /usr/local/lib/python3.9/dist-packages (from tensorboard>=2.4.1->yolov5) (3.4.3)\n",
            "Requirement already satisfied: protobuf>=3.19.6 in /usr/local/lib/python3.9/dist-packages (from tensorboard>=2.4.1->yolov5) (3.20.3)\n",
            "Requirement already satisfied: networkx in /usr/local/lib/python3.9/dist-packages (from torch>=1.7.0->yolov5) (3.0)\n",
            "Requirement already satisfied: triton==2.0.0 in /usr/local/lib/python3.9/dist-packages (from torch>=1.7.0->yolov5) (2.0.0)\n",
            "Requirement already satisfied: jinja2 in /usr/local/lib/python3.9/dist-packages (from torch>=1.7.0->yolov5) (3.1.2)\n",
            "Requirement already satisfied: sympy in /usr/local/lib/python3.9/dist-packages (from torch>=1.7.0->yolov5) (1.11.1)\n",
            "Requirement already satisfied: cmake in /usr/local/lib/python3.9/dist-packages (from triton==2.0.0->torch>=1.7.0->yolov5) (3.25.2)\n",
            "Requirement already satisfied: lit in /usr/local/lib/python3.9/dist-packages (from triton==2.0.0->torch>=1.7.0->yolov5) (16.0.0)\n",
            "Requirement already satisfied: termcolor in /usr/local/lib/python3.9/dist-packages (from fire->yolov5) (2.2.0)\n",
            "Requirement already satisfied: gitdb<5,>=4.0.1 in /usr/local/lib/python3.9/dist-packages (from gitpython->yolov5) (4.0.10)\n",
            "Requirement already satisfied: decorator in /usr/local/lib/python3.9/dist-packages (from ipython->yolov5) (4.4.2)\n",
            "Requirement already satisfied: traitlets>=4.2 in /usr/local/lib/python3.9/dist-packages (from ipython->yolov5) (5.7.1)\n",
            "Requirement already satisfied: prompt-toolkit!=3.0.0,!=3.0.1,<3.1.0,>=2.0.0 in /usr/local/lib/python3.9/dist-packages (from ipython->yolov5) (3.0.38)\n",
            "Requirement already satisfied: pickleshare in /usr/local/lib/python3.9/dist-packages (from ipython->yolov5) (0.7.5)\n",
            "Requirement already satisfied: pygments in /usr/local/lib/python3.9/dist-packages (from ipython->yolov5) (2.14.0)\n",
            "Requirement already satisfied: pexpect>4.3 in /usr/local/lib/python3.9/dist-packages (from ipython->yolov5) (4.8.0)\n",
            "Requirement already satisfied: backcall in /usr/local/lib/python3.9/dist-packages (from ipython->yolov5) (0.2.0)\n",
            "Requirement already satisfied: matplotlib-inline in /usr/local/lib/python3.9/dist-packages (from ipython->yolov5) (0.1.6)\n",
            "Requirement already satisfied: jedi>=0.16 in /usr/local/lib/python3.9/dist-packages (from ipython->yolov5) (0.18.2)\n",
            "Requirement already satisfied: smmap<6,>=3.0.1 in /usr/local/lib/python3.9/dist-packages (from gitdb<5,>=4.0.1->gitpython->yolov5) (5.0.0)\n",
            "Requirement already satisfied: rsa<5,>=3.1.4 in /usr/local/lib/python3.9/dist-packages (from google-auth<3,>=1.6.3->tensorboard>=2.4.1->yolov5) (4.9)\n",
            "Requirement already satisfied: pyasn1-modules>=0.2.1 in /usr/local/lib/python3.9/dist-packages (from google-auth<3,>=1.6.3->tensorboard>=2.4.1->yolov5) (0.2.8)\n",
            "Requirement already satisfied: cachetools<6.0,>=2.0.0 in /usr/local/lib/python3.9/dist-packages (from google-auth<3,>=1.6.3->tensorboard>=2.4.1->yolov5) (5.3.0)\n",
            "Requirement already satisfied: requests-oauthlib>=0.7.0 in /usr/local/lib/python3.9/dist-packages (from google-auth-oauthlib<0.5,>=0.4.1->tensorboard>=2.4.1->yolov5) (1.3.1)\n",
            "Requirement already satisfied: zipp>=3.1.0 in /usr/local/lib/python3.9/dist-packages (from importlib-resources>=3.2.0->matplotlib>=3.2.2->yolov5) (3.15.0)\n",
            "Requirement already satisfied: parso<0.9.0,>=0.8.0 in /usr/local/lib/python3.9/dist-packages (from jedi>=0.16->ipython->yolov5) (0.8.3)\n",
            "Requirement already satisfied: importlib-metadata>=4.4 in /usr/local/lib/python3.9/dist-packages (from markdown>=2.6.8->tensorboard>=2.4.1->yolov5) (6.1.0)\n",
            "Requirement already satisfied: ptyprocess>=0.5 in /usr/local/lib/python3.9/dist-packages (from pexpect>4.3->ipython->yolov5) (0.7.0)\n",
            "Requirement already satisfied: wcwidth in /usr/local/lib/python3.9/dist-packages (from prompt-toolkit!=3.0.0,!=3.0.1,<3.1.0,>=2.0.0->ipython->yolov5) (0.2.6)\n",
            "Requirement already satisfied: MarkupSafe>=2.1.1 in /usr/local/lib/python3.9/dist-packages (from werkzeug>=1.0.1->tensorboard>=2.4.1->yolov5) (2.1.2)\n",
            "Requirement already satisfied: mpmath>=0.19 in /usr/local/lib/python3.9/dist-packages (from sympy->torch>=1.7.0->yolov5) (1.3.0)\n",
            "Requirement already satisfied: pyasn1<0.5.0,>=0.4.6 in /usr/local/lib/python3.9/dist-packages (from pyasn1-modules>=0.2.1->google-auth<3,>=1.6.3->tensorboard>=2.4.1->yolov5) (0.4.8)\n",
            "Requirement already satisfied: oauthlib>=3.0.0 in /usr/local/lib/python3.9/dist-packages (from requests-oauthlib>=0.7.0->google-auth-oauthlib<0.5,>=0.4.1->tensorboard>=2.4.1->yolov5) (3.2.2)\n"
          ]
        }
      ]
    },
    {
      "cell_type": "code",
      "execution_count": 2,
      "metadata": {
        "id": "y7FwftJkjAdj",
        "colab": {
          "base_uri": "https://localhost:8080/"
        },
        "outputId": "74e83d4b-c597-4e56-f699-9152cb90a224"
      },
      "outputs": [
        {
          "output_type": "stream",
          "name": "stdout",
          "text": [
            "fatal: destination path 'yolov5' already exists and is not an empty directory.\n",
            "Looking in indexes: https://pypi.org/simple, https://us-python.pkg.dev/colab-wheels/public/simple/\n",
            "Requirement already satisfied: gitpython>=3.1.30 in /usr/local/lib/python3.9/dist-packages (from -r yolov5/requirements.txt (line 5)) (3.1.31)\n",
            "Requirement already satisfied: matplotlib>=3.2.2 in /usr/local/lib/python3.9/dist-packages (from -r yolov5/requirements.txt (line 6)) (3.7.1)\n",
            "Requirement already satisfied: numpy>=1.18.5 in /usr/local/lib/python3.9/dist-packages (from -r yolov5/requirements.txt (line 7)) (1.22.4)\n",
            "Requirement already satisfied: opencv-python>=4.1.1 in /usr/local/lib/python3.9/dist-packages (from -r yolov5/requirements.txt (line 8)) (4.7.0.72)\n",
            "Requirement already satisfied: Pillow>=7.1.2 in /usr/local/lib/python3.9/dist-packages (from -r yolov5/requirements.txt (line 9)) (8.4.0)\n",
            "Requirement already satisfied: psutil in /usr/local/lib/python3.9/dist-packages (from -r yolov5/requirements.txt (line 10)) (5.9.4)\n",
            "Requirement already satisfied: PyYAML>=5.3.1 in /usr/local/lib/python3.9/dist-packages (from -r yolov5/requirements.txt (line 11)) (6.0)\n",
            "Requirement already satisfied: requests>=2.23.0 in /usr/local/lib/python3.9/dist-packages (from -r yolov5/requirements.txt (line 12)) (2.27.1)\n",
            "Requirement already satisfied: scipy>=1.4.1 in /usr/local/lib/python3.9/dist-packages (from -r yolov5/requirements.txt (line 13)) (1.10.1)\n",
            "Requirement already satisfied: thop>=0.1.1 in /usr/local/lib/python3.9/dist-packages (from -r yolov5/requirements.txt (line 14)) (0.1.1.post2209072238)\n",
            "Requirement already satisfied: torch>=1.7.0 in /usr/local/lib/python3.9/dist-packages (from -r yolov5/requirements.txt (line 15)) (2.0.0+cu118)\n",
            "Requirement already satisfied: torchvision>=0.8.1 in /usr/local/lib/python3.9/dist-packages (from -r yolov5/requirements.txt (line 16)) (0.15.1+cu118)\n",
            "Requirement already satisfied: tqdm>=4.64.0 in /usr/local/lib/python3.9/dist-packages (from -r yolov5/requirements.txt (line 17)) (4.65.0)\n",
            "Requirement already satisfied: tensorboard>=2.4.1 in /usr/local/lib/python3.9/dist-packages (from -r yolov5/requirements.txt (line 21)) (2.12.0)\n",
            "Requirement already satisfied: pandas>=1.1.4 in /usr/local/lib/python3.9/dist-packages (from -r yolov5/requirements.txt (line 26)) (1.4.4)\n",
            "Requirement already satisfied: seaborn>=0.11.0 in /usr/local/lib/python3.9/dist-packages (from -r yolov5/requirements.txt (line 27)) (0.12.2)\n",
            "Requirement already satisfied: setuptools>=65.5.1 in /usr/local/lib/python3.9/dist-packages (from -r yolov5/requirements.txt (line 41)) (67.6.1)\n",
            "Requirement already satisfied: gitdb<5,>=4.0.1 in /usr/local/lib/python3.9/dist-packages (from gitpython>=3.1.30->-r yolov5/requirements.txt (line 5)) (4.0.10)\n",
            "Requirement already satisfied: fonttools>=4.22.0 in /usr/local/lib/python3.9/dist-packages (from matplotlib>=3.2.2->-r yolov5/requirements.txt (line 6)) (4.39.3)\n",
            "Requirement already satisfied: importlib-resources>=3.2.0 in /usr/local/lib/python3.9/dist-packages (from matplotlib>=3.2.2->-r yolov5/requirements.txt (line 6)) (5.12.0)\n",
            "Requirement already satisfied: cycler>=0.10 in /usr/local/lib/python3.9/dist-packages (from matplotlib>=3.2.2->-r yolov5/requirements.txt (line 6)) (0.10.0)\n",
            "Requirement already satisfied: python-dateutil>=2.7 in /usr/local/lib/python3.9/dist-packages (from matplotlib>=3.2.2->-r yolov5/requirements.txt (line 6)) (2.8.2)\n",
            "Requirement already satisfied: packaging>=20.0 in /usr/local/lib/python3.9/dist-packages (from matplotlib>=3.2.2->-r yolov5/requirements.txt (line 6)) (23.0)\n",
            "Requirement already satisfied: contourpy>=1.0.1 in /usr/local/lib/python3.9/dist-packages (from matplotlib>=3.2.2->-r yolov5/requirements.txt (line 6)) (1.0.7)\n",
            "Requirement already satisfied: kiwisolver>=1.0.1 in /usr/local/lib/python3.9/dist-packages (from matplotlib>=3.2.2->-r yolov5/requirements.txt (line 6)) (1.4.4)\n",
            "Requirement already satisfied: pyparsing>=2.3.1 in /usr/local/lib/python3.9/dist-packages (from matplotlib>=3.2.2->-r yolov5/requirements.txt (line 6)) (2.4.7)\n",
            "Requirement already satisfied: urllib3<1.27,>=1.21.1 in /usr/local/lib/python3.9/dist-packages (from requests>=2.23.0->-r yolov5/requirements.txt (line 12)) (1.26.15)\n",
            "Requirement already satisfied: charset-normalizer~=2.0.0 in /usr/local/lib/python3.9/dist-packages (from requests>=2.23.0->-r yolov5/requirements.txt (line 12)) (2.0.12)\n",
            "Requirement already satisfied: certifi>=2017.4.17 in /usr/local/lib/python3.9/dist-packages (from requests>=2.23.0->-r yolov5/requirements.txt (line 12)) (2022.12.7)\n",
            "Requirement already satisfied: idna<4,>=2.5 in /usr/local/lib/python3.9/dist-packages (from requests>=2.23.0->-r yolov5/requirements.txt (line 12)) (2.10)\n",
            "Requirement already satisfied: triton==2.0.0 in /usr/local/lib/python3.9/dist-packages (from torch>=1.7.0->-r yolov5/requirements.txt (line 15)) (2.0.0)\n",
            "Requirement already satisfied: jinja2 in /usr/local/lib/python3.9/dist-packages (from torch>=1.7.0->-r yolov5/requirements.txt (line 15)) (3.1.2)\n",
            "Requirement already satisfied: typing-extensions in /usr/local/lib/python3.9/dist-packages (from torch>=1.7.0->-r yolov5/requirements.txt (line 15)) (4.5.0)\n",
            "Requirement already satisfied: filelock in /usr/local/lib/python3.9/dist-packages (from torch>=1.7.0->-r yolov5/requirements.txt (line 15)) (3.10.7)\n",
            "Requirement already satisfied: networkx in /usr/local/lib/python3.9/dist-packages (from torch>=1.7.0->-r yolov5/requirements.txt (line 15)) (3.0)\n",
            "Requirement already satisfied: sympy in /usr/local/lib/python3.9/dist-packages (from torch>=1.7.0->-r yolov5/requirements.txt (line 15)) (1.11.1)\n",
            "Requirement already satisfied: lit in /usr/local/lib/python3.9/dist-packages (from triton==2.0.0->torch>=1.7.0->-r yolov5/requirements.txt (line 15)) (16.0.0)\n",
            "Requirement already satisfied: cmake in /usr/local/lib/python3.9/dist-packages (from triton==2.0.0->torch>=1.7.0->-r yolov5/requirements.txt (line 15)) (3.25.2)\n",
            "Requirement already satisfied: markdown>=2.6.8 in /usr/local/lib/python3.9/dist-packages (from tensorboard>=2.4.1->-r yolov5/requirements.txt (line 21)) (3.4.3)\n",
            "Requirement already satisfied: protobuf>=3.19.6 in /usr/local/lib/python3.9/dist-packages (from tensorboard>=2.4.1->-r yolov5/requirements.txt (line 21)) (3.20.3)\n",
            "Requirement already satisfied: werkzeug>=1.0.1 in /usr/local/lib/python3.9/dist-packages (from tensorboard>=2.4.1->-r yolov5/requirements.txt (line 21)) (2.2.3)\n",
            "Requirement already satisfied: absl-py>=0.4 in /usr/local/lib/python3.9/dist-packages (from tensorboard>=2.4.1->-r yolov5/requirements.txt (line 21)) (1.4.0)\n",
            "Requirement already satisfied: tensorboard-plugin-wit>=1.6.0 in /usr/local/lib/python3.9/dist-packages (from tensorboard>=2.4.1->-r yolov5/requirements.txt (line 21)) (1.8.1)\n",
            "Requirement already satisfied: grpcio>=1.48.2 in /usr/local/lib/python3.9/dist-packages (from tensorboard>=2.4.1->-r yolov5/requirements.txt (line 21)) (1.53.0)\n",
            "Requirement already satisfied: wheel>=0.26 in /usr/local/lib/python3.9/dist-packages (from tensorboard>=2.4.1->-r yolov5/requirements.txt (line 21)) (0.40.0)\n",
            "Requirement already satisfied: google-auth-oauthlib<0.5,>=0.4.1 in /usr/local/lib/python3.9/dist-packages (from tensorboard>=2.4.1->-r yolov5/requirements.txt (line 21)) (0.4.6)\n",
            "Requirement already satisfied: google-auth<3,>=1.6.3 in /usr/local/lib/python3.9/dist-packages (from tensorboard>=2.4.1->-r yolov5/requirements.txt (line 21)) (2.17.0)\n",
            "Requirement already satisfied: tensorboard-data-server<0.8.0,>=0.7.0 in /usr/local/lib/python3.9/dist-packages (from tensorboard>=2.4.1->-r yolov5/requirements.txt (line 21)) (0.7.0)\n",
            "Requirement already satisfied: pytz>=2020.1 in /usr/local/lib/python3.9/dist-packages (from pandas>=1.1.4->-r yolov5/requirements.txt (line 26)) (2022.7.1)\n",
            "Requirement already satisfied: six in /usr/local/lib/python3.9/dist-packages (from cycler>=0.10->matplotlib>=3.2.2->-r yolov5/requirements.txt (line 6)) (1.16.0)\n",
            "Requirement already satisfied: smmap<6,>=3.0.1 in /usr/local/lib/python3.9/dist-packages (from gitdb<5,>=4.0.1->gitpython>=3.1.30->-r yolov5/requirements.txt (line 5)) (5.0.0)\n",
            "Requirement already satisfied: pyasn1-modules>=0.2.1 in /usr/local/lib/python3.9/dist-packages (from google-auth<3,>=1.6.3->tensorboard>=2.4.1->-r yolov5/requirements.txt (line 21)) (0.2.8)\n",
            "Requirement already satisfied: rsa<5,>=3.1.4 in /usr/local/lib/python3.9/dist-packages (from google-auth<3,>=1.6.3->tensorboard>=2.4.1->-r yolov5/requirements.txt (line 21)) (4.9)\n",
            "Requirement already satisfied: cachetools<6.0,>=2.0.0 in /usr/local/lib/python3.9/dist-packages (from google-auth<3,>=1.6.3->tensorboard>=2.4.1->-r yolov5/requirements.txt (line 21)) (5.3.0)\n",
            "Requirement already satisfied: requests-oauthlib>=0.7.0 in /usr/local/lib/python3.9/dist-packages (from google-auth-oauthlib<0.5,>=0.4.1->tensorboard>=2.4.1->-r yolov5/requirements.txt (line 21)) (1.3.1)\n",
            "Requirement already satisfied: zipp>=3.1.0 in /usr/local/lib/python3.9/dist-packages (from importlib-resources>=3.2.0->matplotlib>=3.2.2->-r yolov5/requirements.txt (line 6)) (3.15.0)\n",
            "Requirement already satisfied: importlib-metadata>=4.4 in /usr/local/lib/python3.9/dist-packages (from markdown>=2.6.8->tensorboard>=2.4.1->-r yolov5/requirements.txt (line 21)) (6.1.0)\n",
            "Requirement already satisfied: MarkupSafe>=2.1.1 in /usr/local/lib/python3.9/dist-packages (from werkzeug>=1.0.1->tensorboard>=2.4.1->-r yolov5/requirements.txt (line 21)) (2.1.2)\n",
            "Requirement already satisfied: mpmath>=0.19 in /usr/local/lib/python3.9/dist-packages (from sympy->torch>=1.7.0->-r yolov5/requirements.txt (line 15)) (1.3.0)\n",
            "Requirement already satisfied: pyasn1<0.5.0,>=0.4.6 in /usr/local/lib/python3.9/dist-packages (from pyasn1-modules>=0.2.1->google-auth<3,>=1.6.3->tensorboard>=2.4.1->-r yolov5/requirements.txt (line 21)) (0.4.8)\n",
            "Requirement already satisfied: oauthlib>=3.0.0 in /usr/local/lib/python3.9/dist-packages (from requests-oauthlib>=0.7.0->google-auth-oauthlib<0.5,>=0.4.1->tensorboard>=2.4.1->-r yolov5/requirements.txt (line 21)) (3.2.2)\n"
          ]
        }
      ],
      "source": [
        "!git clone https://github.com/ultralytics/yolov5.git\n",
        "!pip install -r yolov5/requirements.txt"
      ]
    },
    {
      "cell_type": "code",
      "source": [
        "# import sys\n",
        "# sys.path.append(\"yolov5\")\n",
        "\n",
        "# from yolov5.models.yolo import Model, ComputeLoss"
      ],
      "metadata": {
        "id": "AmQrQIfJ0UqP"
      },
      "execution_count": 3,
      "outputs": []
    },
    {
      "cell_type": "code",
      "execution_count": 22,
      "metadata": {
        "id": "8DjIi4A4jAdk"
      },
      "outputs": [],
      "source": [
        "# Include all packages\n",
        "import os\n",
        "import cv2\n",
        "import time\n",
        "import numpy as np\n",
        "import pandas as pd\n",
        "from PIL import Image\n",
        "import torch\n",
        "import torch.nn as nn\n",
        "import torch.optim as optim\n",
        "from torch.autograd import Variable\n",
        "from torch.utils.data import Dataset, DataLoader\n",
        "from yolov5.models.yolo import Model\n",
        "from yolov5.utils.loss import ComputeLoss\n",
        "from sklearn.model_selection import train_test_split\n",
        "\n"
      ]
    },
    {
      "cell_type": "code",
      "execution_count": 5,
      "metadata": {
        "id": "EWtS5xRdjAdk",
        "colab": {
          "base_uri": "https://localhost:8080/"
        },
        "outputId": "4481f895-e801-40b9-fc24-d228a0bac874"
      },
      "outputs": [
        {
          "output_type": "stream",
          "name": "stdout",
          "text": [
            "Mounted at /content/drive\n"
          ]
        }
      ],
      "source": [
        "from google.colab import drive\n",
        "drive.mount('/content/drive')\n",
        "import zipfile\n",
        "with zipfile.ZipFile('/content/drive/MyDrive/DL/FinalProject/signDatabasePublicFramesOnly.zip', 'r') as zip_ref:\n",
        "    zip_ref.extractall('./DataSet')\n"
      ]
    },
    {
      "cell_type": "code",
      "execution_count": 6,
      "metadata": {
        "colab": {
          "base_uri": "https://localhost:8080/"
        },
        "id": "CNkr3pM5jAdk",
        "outputId": "28b4f285-eaa1-49a7-eb88-56a8c0b21ec9"
      },
      "outputs": [
        {
          "output_type": "stream",
          "name": "stdout",
          "text": [
            "cuda\n"
          ]
        }
      ],
      "source": [
        "device = torch.device('cuda' if torch.cuda.is_available() else 'cpu')\n",
        "print(device)"
      ]
    },
    {
      "cell_type": "code",
      "execution_count": 7,
      "metadata": {
        "id": "EjXJekN6jAdk"
      },
      "outputs": [],
      "source": [
        "def LoadDataSet(dataSetFolderPath: str):\n",
        "    images = []\n",
        "    newAnnotations = []\n",
        "    annotationsFilePath = dataSetFolderPath+\"/allAnnotations.csv\"\n",
        "    annotationsDataFrame = pd.read_csv(annotationsFilePath, sep=\";\")\n",
        "    width, height = 416, 416\n",
        "    for index, row in annotationsDataFrame[1:].iterrows():\n",
        "        image = cv2.imread(dataSetFolderPath+\"/\"+row[0])\n",
        "        # cv2.imshow(\"image\", image)\n",
        "        resizedImage = cv2.resize(\n",
        "            image, (width, height), interpolation=cv2.INTER_AREA)\n",
        "        # cv2.imshow(\"resized_img\", resized_img)\n",
        "        images.append(resizedImage)\n",
        "        x1, y1, x2, y2 = row[2], row[3], row[4], row[5]\n",
        "        x1, y1 = x1 / image.shape[1], y1 / image.shape[0]\n",
        "        x2, y2 = x2 / image.shape[1], y2 / image.shape[0]\n",
        "        newAnnotations.append([x1, y1, x2, y2])\n",
        "    uniqueSigns = annotationsDataFrame['Annotation tag'].unique()\n",
        "    del annotationsDataFrame\n",
        "    X_train, X_val, y_train, y_val = train_test_split(\n",
        "        images, newAnnotations, test_size=0.3, random_state=42)\n",
        "\n",
        "    return X_train, X_val, y_train, y_val, uniqueSigns\n",
        "\n"
      ]
    },
    {
      "cell_type": "code",
      "execution_count": 8,
      "metadata": {
        "id": "GtvhTZ4wjAdl"
      },
      "outputs": [],
      "source": [
        "class CustomDataset(Dataset):\n",
        "    def __init__(self, data, transform=None):\n",
        "        self.data = data  # data should be a list of (input, label) pairs\n",
        "        self.transform = transform\n",
        "\n",
        "    def __len__(self):\n",
        "        return len(self.data)\n",
        "\n",
        "    def __getitem__(self, idx):\n",
        "        input_data, label = self.data[idx]\n",
        "\n",
        "        if self.transform:\n",
        "            input_data = self.transform(input_data)\n",
        "            label = self.transform(label)\n",
        "        \n",
        "        # Change the shape from (height, width, channels) to (channels, height, width)\n",
        "        input_data = np.transpose(input_data, (2, 0, 1))\n",
        "        input_data = torch.from_numpy(input_data).float()\n",
        "        label = torch.tensor(label).float()\n",
        "        return input_data, label"
      ]
    },
    {
      "cell_type": "code",
      "execution_count": 9,
      "metadata": {
        "id": "vVvt5T-wjAdl"
      },
      "outputs": [],
      "source": [
        "def _create_yolov5(input_shape, num_classes, version=\"s\"):\n",
        "    cfg = f\"yolov5/models/yolov5{version}.yaml\"\n",
        "    model = Model(cfg, ch=3, nc=num_classes)\n",
        "    return model\n"
      ]
    },
    {
      "cell_type": "code",
      "source": [
        "def yolov5_bbox_loss(outputs, targets):\n",
        "    obj_mask, box_coords = targets[:, 0], targets[:, 1:]\n",
        "    output_obj_mask, output_box_coords = outputs[:, 0], outputs[:, 1:]\n",
        "    \n",
        "    coord_loss = nn.MSELoss()(output_box_coords[obj_mask.bool()], box_coords[obj_mask.bool()])\n",
        "    \n",
        "    return coord_loss\n"
      ],
      "metadata": {
        "id": "4f87DT-xoLbN"
      },
      "execution_count": 10,
      "outputs": []
    },
    {
      "cell_type": "code",
      "execution_count": 19,
      "metadata": {
        "id": "Xv2M7ua7jAdl"
      },
      "outputs": [],
      "source": [
        "# def train_epoch(model, dataloader, criterion, optimizer, device):\n",
        "#     model.train()\n",
        "#     running_loss = 0.0\n",
        "#     for inputs, labels in dataloader:\n",
        "#         inputs = inputs.to(device)\n",
        "#         labels = labels.to(device)\n",
        "\n",
        "#         # labels = torch.stack(labels).to(device)\n",
        "        \n",
        "#         optimizer.zero_grad()\n",
        "        \n",
        "#         outputs = model(inputs)\n",
        "#         loss = criterion(outputs, labels)\n",
        "#         loss.backward()\n",
        "#         optimizer.step()\n",
        "        \n",
        "#         running_loss += loss.item()\n",
        "        \n",
        "#     return running_loss / len(dataloader)\n",
        "\n",
        "# def train_epoch(model, dataloader, optimizer, device):\n",
        "#     model.train()\n",
        "#     running_loss = 0.0\n",
        "#     for inputs, labels in dataloader:\n",
        "#         inputs = inputs.to(device)\n",
        "#         labels = labels.to(device)\n",
        "        \n",
        "#         optimizer.zero_grad()\n",
        "        \n",
        "#         outputs = model(inputs)\n",
        "#         loss = yolov5_bbox_loss(outputs, labels)\n",
        "#         loss.backward()\n",
        "#         optimizer.step()\n",
        "        \n",
        "#         running_loss += loss.item()\n",
        "        \n",
        "#     return running_loss / len(dataloader)\n",
        "def train_epoch(model, dataloader, optimizer, device, compute_loss):\n",
        "    model.train()\n",
        "    running_loss = 0.0\n",
        "    for inputs, labels in dataloader:\n",
        "        inputs, labels = inputs.to(device), labels.to(device)\n",
        "        optimizer.zero_grad()\n",
        "\n",
        "        outputs = model(inputs)\n",
        "        loss, loss_items = compute_loss(outputs, labels)  # Using the ComputeLoss instance for loss computation\n",
        "        loss.backward()\n",
        "        optimizer.step()\n",
        "\n",
        "        running_loss += loss.item()\n",
        "    return running_loss / len(dataloader)"
      ]
    },
    {
      "cell_type": "code",
      "execution_count": 12,
      "metadata": {
        "id": "XtZd31ykjAdl"
      },
      "outputs": [],
      "source": [
        "# def validate_epoch(model, dataloader, criterion, device):\n",
        "#     model.eval()\n",
        "#     running_loss = 0.0\n",
        "#     with torch.no_grad():\n",
        "#         for inputs, labels in dataloader:\n",
        "#             inputs = inputs.to(device)\n",
        "#             labels = labels.to(device)\n",
        "#             # labels = torch.stack(labels).to(device)\n",
        "            \n",
        "#             outputs = model(inputs)\n",
        "#             loss = criterion(outputs, labels)\n",
        "            \n",
        "#             running_loss += loss.item()\n",
        "            \n",
        "#     return running_loss / len(dataloader)\n",
        "\n",
        "# def validate_epoch(model, dataloader, device):\n",
        "#     model.eval()\n",
        "#     running_loss = 0.0\n",
        "#     with torch.no_grad():\n",
        "#         for inputs, labels in dataloader:\n",
        "#             inputs = inputs.to(device)\n",
        "#             labels = labels.to(device)\n",
        "            \n",
        "#             outputs = model(inputs)\n",
        "#             loss = yolov5_bbox_loss(outputs, labels)\n",
        "            \n",
        "#             running_loss += loss.item()\n",
        "            \n",
        "#     return running_loss / len(dataloader)\n",
        "\n",
        "def validate_epoch(model, dataloader, device):\n",
        "    model.eval()\n",
        "    running_loss = 0.0\n",
        "    with torch.no_grad():\n",
        "        for i, (inputs, labels) in enumerate(dataloader):\n",
        "            inputs = inputs.to(device)\n",
        "            labels = [{torch.tensor(l).float().to(device)} for l in labels]\n",
        "\n",
        "            outputs = model(inputs)\n",
        "            loss = model.loss(outputs, labels)\n",
        "\n",
        "            running_loss += loss.item()\n",
        "\n",
        "    return running_loss / len(dataloader)\n",
        "  "
      ]
    },
    {
      "cell_type": "code",
      "execution_count": 13,
      "metadata": {
        "id": "4AhOr9cXjAdl"
      },
      "outputs": [],
      "source": [
        "# def train_yolov5_model(model, train_dataloader, val_dataloader, num_epochs, optimizer, device):\n",
        "#     model.to(device)\n",
        "#     criterion = nn.MSELoss()\n",
        "    \n",
        "#     for epoch in range(num_epochs):\n",
        "#         start_time = time.time()\n",
        "        \n",
        "#         # train_loss = train_epoch(model, train_dataloader, criterion, optimizer, device)\n",
        "#         # val_loss = validate_epoch(model, val_dataloader, criterion, device)\n",
        "#         train_loss = train_epoch(model, train_dataloader, optimizer, device)\n",
        "#         val_loss = validate_epoch(model, val_dataloader, device)\n",
        "#         end_time = time.time()\n",
        "#         elapsed_time = end_time - start_time\n",
        "        \n",
        "#         print(f\"Epoch {epoch+1}/{num_epochs} - Time: {elapsed_time:.2f}s - Train Loss: {train_loss:.4f} - Val Loss: {val_loss:.4f}\")\n",
        "        \n",
        "#     return model\n",
        "def train_yolov5_model(model, train_dataloader, val_dataloader, num_epochs, optimizer, device, compute_loss):\n",
        "    model.to(device)\n",
        "    \n",
        "    \n",
        "    for epoch in range(num_epochs):\n",
        "        print(f\"Epoch {epoch+1}/{num_epochs}\")\n",
        "        print(\"-\" * 10)\n",
        "        \n",
        "        start_time = time.time()\n",
        "        \n",
        "        train_loss = train_epoch(model, train_dataloader, optimizer, device, compute_loss)\n",
        "        val_loss = validate_epoch(model, val_dataloader, device)\n",
        "        \n",
        "        print(f\"Train Loss: {train_loss:.4f}, Val Loss: {val_loss:.4f}\")\n",
        "        \n",
        "        elapsed_time = time.time() - start_time\n",
        "        print(f\"Time elapsed: {elapsed_time:.0f}m {elapsed_time % 60:.0f}s\")\n",
        "    \n",
        "    return model\n"
      ]
    },
    {
      "cell_type": "code",
      "execution_count": 14,
      "metadata": {
        "colab": {
          "base_uri": "https://localhost:8080/"
        },
        "id": "BqdzpFR-jAdm",
        "outputId": "c5c9793c-ed75-44bd-c54e-405ecefd5c10"
      },
      "outputs": [
        {
          "output_type": "stream",
          "name": "stdout",
          "text": [
            "47\n"
          ]
        }
      ],
      "source": [
        "X_train, X_val, y_train, y_val, uniqueSigns = LoadDataSet(\"./DataSet\")\n",
        "num_classes = len(uniqueSigns)\n",
        "print(num_classes)"
      ]
    },
    {
      "cell_type": "code",
      "execution_count": 15,
      "metadata": {
        "id": "M3OraznpjAdm"
      },
      "outputs": [],
      "source": [
        "trainDataSet = []  # List of (input, label) pairs for the training set\n",
        "valDataSet = []  # List of (input, label) pairs for the validation set\n",
        "for i in range(len(X_train)):\n",
        "    trainDataSet.append((X_train[i], y_train[i]))\n",
        "\n",
        "for i in range(len(X_val)):\n",
        "    valDataSet.append((X_val[i], y_val[i]))\n",
        "\n"
      ]
    },
    {
      "cell_type": "code",
      "execution_count": 16,
      "metadata": {
        "id": "FK9_xL5ljAdm"
      },
      "outputs": [],
      "source": [
        "trainDataSetset = CustomDataset(trainDataSet)\n",
        "valDataSetset = CustomDataset(valDataSet)\n",
        "\n",
        "# Create the data loaders\n",
        "trainDataSetloader = DataLoader(\n",
        "    trainDataSetset, batch_size=32, shuffle=True, num_workers=4)\n",
        "valDataSetloader = DataLoader(\n",
        "    valDataSetset, batch_size=32, shuffle=False, num_workers=4)\n",
        "input_shape = (416, 416, 3)\n"
      ]
    },
    {
      "cell_type": "code",
      "execution_count": 17,
      "metadata": {
        "colab": {
          "base_uri": "https://localhost:8080/"
        },
        "id": "I129NGosjAdm",
        "outputId": "cb6c300a-4ece-451e-bb2b-04636480d6ae"
      },
      "outputs": [
        {
          "output_type": "stream",
          "name": "stderr",
          "text": [
            "Overriding model.yaml nc=80 with nc=47\n",
            "\n",
            "                 from  n    params  module                                  arguments                     \n",
            "  0                -1  1      3520  yolov5.models.common.Conv               [3, 32, 6, 2, 2]              \n",
            "  1                -1  1     18560  yolov5.models.common.Conv               [32, 64, 3, 2]                \n",
            "  2                -1  1     18816  yolov5.models.common.C3                 [64, 64, 1]                   \n",
            "  3                -1  1     73984  yolov5.models.common.Conv               [64, 128, 3, 2]               \n",
            "  4                -1  2    115712  yolov5.models.common.C3                 [128, 128, 2]                 \n",
            "  5                -1  1    295424  yolov5.models.common.Conv               [128, 256, 3, 2]              \n",
            "  6                -1  3    625152  yolov5.models.common.C3                 [256, 256, 3]                 \n",
            "  7                -1  1   1180672  yolov5.models.common.Conv               [256, 512, 3, 2]              \n",
            "  8                -1  1   1182720  yolov5.models.common.C3                 [512, 512, 1]                 \n",
            "  9                -1  1    656896  yolov5.models.common.SPPF               [512, 512, 5]                 \n",
            " 10                -1  1    131584  yolov5.models.common.Conv               [512, 256, 1, 1]              \n",
            " 11                -1  1         0  torch.nn.modules.upsampling.Upsample    [None, 2, 'nearest']          \n",
            " 12           [-1, 6]  1         0  yolov5.models.common.Concat             [1]                           \n",
            " 13                -1  1    361984  yolov5.models.common.C3                 [512, 256, 1, False]          \n",
            " 14                -1  1     33024  yolov5.models.common.Conv               [256, 128, 1, 1]              \n",
            " 15                -1  1         0  torch.nn.modules.upsampling.Upsample    [None, 2, 'nearest']          \n",
            " 16           [-1, 4]  1         0  yolov5.models.common.Concat             [1]                           \n",
            " 17                -1  1     90880  yolov5.models.common.C3                 [256, 128, 1, False]          \n",
            " 18                -1  1    147712  yolov5.models.common.Conv               [128, 128, 3, 2]              \n",
            " 19          [-1, 14]  1         0  yolov5.models.common.Concat             [1]                           \n",
            " 20                -1  1    296448  yolov5.models.common.C3                 [256, 256, 1, False]          \n",
            " 21                -1  1    590336  yolov5.models.common.Conv               [256, 256, 3, 2]              \n",
            " 22          [-1, 10]  1         0  yolov5.models.common.Concat             [1]                           \n",
            " 23                -1  1   1182720  yolov5.models.common.C3                 [512, 512, 1, False]          \n",
            " 24      [17, 20, 23]  1    140244  yolov5.models.yolo.Detect               [47, [[10, 13, 16, 30, 33, 23], [30, 61, 62, 45, 59, 119], [116, 90, 156, 198, 373, 326]], [128, 256, 512]]\n",
            "YOLOv5s summary: 214 layers, 7146388 parameters, 7146388 gradients, 16.3 GFLOPs\n",
            "\n"
          ]
        }
      ],
      "source": [
        "yolov5_model = _create_yolov5(input_shape, num_classes)\n",
        "optimizer = optim.Adam(yolov5_model.parameters(), lr=0.001)\n",
        "compute_loss = ComputeLoss(yolov5_model)\n"
      ]
    },
    {
      "cell_type": "code",
      "execution_count": 20,
      "metadata": {
        "colab": {
          "base_uri": "https://localhost:8080/",
          "height": 397
        },
        "id": "0LV_esLzjAdm",
        "outputId": "af85c03c-e0e1-4537-a591-81e6808e5b7b"
      },
      "outputs": [
        {
          "output_type": "stream",
          "name": "stdout",
          "text": [
            "Epoch 1/50\n",
            "----------\n"
          ]
        },
        {
          "output_type": "error",
          "ename": "AttributeError",
          "evalue": "ignored",
          "traceback": [
            "\u001b[0;31m---------------------------------------------------------------------------\u001b[0m",
            "\u001b[0;31mAttributeError\u001b[0m                            Traceback (most recent call last)",
            "\u001b[0;32m<ipython-input-20-0da31b788363>\u001b[0m in \u001b[0;36m<cell line: 2>\u001b[0;34m()\u001b[0m\n\u001b[1;32m      1\u001b[0m \u001b[0mnum_epochs\u001b[0m \u001b[0;34m=\u001b[0m \u001b[0;36m50\u001b[0m\u001b[0;34m\u001b[0m\u001b[0;34m\u001b[0m\u001b[0m\n\u001b[0;32m----> 2\u001b[0;31m \u001b[0mtrained_model\u001b[0m \u001b[0;34m=\u001b[0m \u001b[0mtrain_yolov5_model\u001b[0m\u001b[0;34m(\u001b[0m\u001b[0myolov5_model\u001b[0m\u001b[0;34m,\u001b[0m \u001b[0mtrainDataSetloader\u001b[0m\u001b[0;34m,\u001b[0m \u001b[0mvalDataSetloader\u001b[0m\u001b[0;34m,\u001b[0m \u001b[0mnum_epochs\u001b[0m\u001b[0;34m,\u001b[0m \u001b[0moptimizer\u001b[0m\u001b[0;34m,\u001b[0m \u001b[0mdevice\u001b[0m\u001b[0;34m)\u001b[0m\u001b[0;34m\u001b[0m\u001b[0;34m\u001b[0m\u001b[0m\n\u001b[0m",
            "\u001b[0;32m<ipython-input-13-bb480f3a3671>\u001b[0m in \u001b[0;36mtrain_yolov5_model\u001b[0;34m(model, train_dataloader, val_dataloader, num_epochs, optimizer, device)\u001b[0m\n\u001b[1;32m     26\u001b[0m         \u001b[0mstart_time\u001b[0m \u001b[0;34m=\u001b[0m \u001b[0mtime\u001b[0m\u001b[0;34m.\u001b[0m\u001b[0mtime\u001b[0m\u001b[0;34m(\u001b[0m\u001b[0;34m)\u001b[0m\u001b[0;34m\u001b[0m\u001b[0;34m\u001b[0m\u001b[0m\n\u001b[1;32m     27\u001b[0m \u001b[0;34m\u001b[0m\u001b[0m\n\u001b[0;32m---> 28\u001b[0;31m         \u001b[0mtrain_loss\u001b[0m \u001b[0;34m=\u001b[0m \u001b[0mtrain_epoch\u001b[0m\u001b[0;34m(\u001b[0m\u001b[0mmodel\u001b[0m\u001b[0;34m,\u001b[0m \u001b[0mtrain_dataloader\u001b[0m\u001b[0;34m,\u001b[0m \u001b[0moptimizer\u001b[0m\u001b[0;34m,\u001b[0m \u001b[0mdevice\u001b[0m\u001b[0;34m)\u001b[0m\u001b[0;34m\u001b[0m\u001b[0;34m\u001b[0m\u001b[0m\n\u001b[0m\u001b[1;32m     29\u001b[0m         \u001b[0mval_loss\u001b[0m \u001b[0;34m=\u001b[0m \u001b[0mvalidate_epoch\u001b[0m\u001b[0;34m(\u001b[0m\u001b[0mmodel\u001b[0m\u001b[0;34m,\u001b[0m \u001b[0mval_dataloader\u001b[0m\u001b[0;34m,\u001b[0m \u001b[0mdevice\u001b[0m\u001b[0;34m)\u001b[0m\u001b[0;34m\u001b[0m\u001b[0;34m\u001b[0m\u001b[0m\n\u001b[1;32m     30\u001b[0m \u001b[0;34m\u001b[0m\u001b[0m\n",
            "\u001b[0;32m<ipython-input-19-f5b0b9acf565>\u001b[0m in \u001b[0;36mtrain_epoch\u001b[0;34m(model, dataloader, optimizer, device)\u001b[0m\n\u001b[1;32m     46\u001b[0m \u001b[0;34m\u001b[0m\u001b[0m\n\u001b[1;32m     47\u001b[0m         \u001b[0moutputs\u001b[0m \u001b[0;34m=\u001b[0m \u001b[0mmodel\u001b[0m\u001b[0;34m(\u001b[0m\u001b[0minputs\u001b[0m\u001b[0;34m)\u001b[0m\u001b[0;34m\u001b[0m\u001b[0;34m\u001b[0m\u001b[0m\n\u001b[0;32m---> 48\u001b[0;31m         \u001b[0mloss\u001b[0m \u001b[0;34m=\u001b[0m \u001b[0mmodel\u001b[0m\u001b[0;34m.\u001b[0m\u001b[0mloss\u001b[0m\u001b[0;34m(\u001b[0m\u001b[0moutputs\u001b[0m\u001b[0;34m,\u001b[0m \u001b[0mlabels\u001b[0m\u001b[0;34m)\u001b[0m\u001b[0;34m\u001b[0m\u001b[0;34m\u001b[0m\u001b[0m\n\u001b[0m\u001b[1;32m     49\u001b[0m         \u001b[0mloss\u001b[0m\u001b[0;34m.\u001b[0m\u001b[0mbackward\u001b[0m\u001b[0;34m(\u001b[0m\u001b[0;34m)\u001b[0m\u001b[0;34m\u001b[0m\u001b[0;34m\u001b[0m\u001b[0m\n\u001b[1;32m     50\u001b[0m         \u001b[0moptimizer\u001b[0m\u001b[0;34m.\u001b[0m\u001b[0mstep\u001b[0m\u001b[0;34m(\u001b[0m\u001b[0;34m)\u001b[0m\u001b[0;34m\u001b[0m\u001b[0;34m\u001b[0m\u001b[0m\n",
            "\u001b[0;32m/usr/local/lib/python3.9/dist-packages/torch/nn/modules/module.py\u001b[0m in \u001b[0;36m__getattr__\u001b[0;34m(self, name)\u001b[0m\n\u001b[1;32m   1612\u001b[0m             \u001b[0;32mif\u001b[0m \u001b[0mname\u001b[0m \u001b[0;32min\u001b[0m \u001b[0mmodules\u001b[0m\u001b[0;34m:\u001b[0m\u001b[0;34m\u001b[0m\u001b[0;34m\u001b[0m\u001b[0m\n\u001b[1;32m   1613\u001b[0m                 \u001b[0;32mreturn\u001b[0m \u001b[0mmodules\u001b[0m\u001b[0;34m[\u001b[0m\u001b[0mname\u001b[0m\u001b[0;34m]\u001b[0m\u001b[0;34m\u001b[0m\u001b[0;34m\u001b[0m\u001b[0m\n\u001b[0;32m-> 1614\u001b[0;31m         raise AttributeError(\"'{}' object has no attribute '{}'\".format(\n\u001b[0m\u001b[1;32m   1615\u001b[0m             type(self).__name__, name))\n\u001b[1;32m   1616\u001b[0m \u001b[0;34m\u001b[0m\u001b[0m\n",
            "\u001b[0;31mAttributeError\u001b[0m: 'DetectionModel' object has no attribute 'loss'"
          ]
        }
      ],
      "source": [
        "num_epochs = 50\n",
        "trained_model = train_yolov5_model(yolov5_model, trainDataSetloader, valDataSetloader, num_epochs, optimizer, device, compute_loss)\n"
      ]
    },
    {
      "cell_type": "code",
      "execution_count": null,
      "metadata": {
        "id": "C7ya8IpTjAdm"
      },
      "outputs": [],
      "source": [
        "\n",
        "# Save the trained model\n",
        "torch.save(trained_model.state_dict(), 'trained_yolov5_model.pth')"
      ]
    }
  ],
  "metadata": {
    "language_info": {
      "name": "python"
    },
    "orig_nbformat": 4,
    "colab": {
      "provenance": [],
      "machine_shape": "hm"
    },
    "kernelspec": {
      "name": "python3",
      "display_name": "Python 3"
    },
    "gpuClass": "standard",
    "accelerator": "GPU"
  },
  "nbformat": 4,
  "nbformat_minor": 0
}